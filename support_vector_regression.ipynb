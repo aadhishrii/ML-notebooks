{
 "cells": [
  {
   "cell_type": "markdown",
   "metadata": {
    "id": "m3PAEPRDRLA3"
   },
   "source": [
    "# Support Vector Regression (SVR)"
   ]
  },
  {
   "cell_type": "markdown",
   "metadata": {
    "id": "0VCUAVIjRdzZ"
   },
   "source": [
    "## Importing the libraries"
   ]
  },
  {
   "cell_type": "code",
   "execution_count": 1,
   "metadata": {
    "executionInfo": {
     "elapsed": 998,
     "status": "ok",
     "timestamp": 1628111046520,
     "user": {
      "displayName": "Aadhishrii Patiil",
      "photoUrl": "https://lh3.googleusercontent.com/a-/AOh14GiRxg2Xzt3H395CcMSBSnKUWXGUffwK04DbI7PjLhY=s64",
      "userId": "01064352760328716387"
     },
     "user_tz": -330
    },
    "id": "56oRF-QfSDzC"
   },
   "outputs": [],
   "source": [
    "import numpy as np\n",
    "import matplotlib.pyplot as plt\n",
    "import pandas as pd\n",
    "import seaborn as sns"
   ]
  },
  {
   "cell_type": "markdown",
   "metadata": {
    "id": "fXVXoFWtSF4_"
   },
   "source": [
    "## Importing the dataset"
   ]
  },
  {
   "cell_type": "code",
   "execution_count": 2,
   "metadata": {
    "executionInfo": {
     "elapsed": 14,
     "status": "ok",
     "timestamp": 1628111046521,
     "user": {
      "displayName": "Aadhishrii Patiil",
      "photoUrl": "https://lh3.googleusercontent.com/a-/AOh14GiRxg2Xzt3H395CcMSBSnKUWXGUffwK04DbI7PjLhY=s64",
      "userId": "01064352760328716387"
     },
     "user_tz": -330
    },
    "id": "xfoa8OSORfHQ"
   },
   "outputs": [],
   "source": [
    "dataset = pd.read_csv('Datasets/Position_Salaries.csv')\n",
    "X = dataset.iloc[:, 1:-1].values\n",
    "y = dataset.iloc[:, -1].values"
   ]
  },
  {
   "cell_type": "code",
   "execution_count": 3,
   "metadata": {
    "colab": {
     "base_uri": "https://localhost:8080/"
    },
    "executionInfo": {
     "elapsed": 13,
     "status": "ok",
     "timestamp": 1628111046522,
     "user": {
      "displayName": "Aadhishrii Patiil",
      "photoUrl": "https://lh3.googleusercontent.com/a-/AOh14GiRxg2Xzt3H395CcMSBSnKUWXGUffwK04DbI7PjLhY=s64",
      "userId": "01064352760328716387"
     },
     "user_tz": -330
    },
    "id": "fAWJV6gpiTYM",
    "outputId": "179e7950-9e6c-44af-b2ca-34c35fee8a66"
   },
   "outputs": [
    {
     "name": "stdout",
     "output_type": "stream",
     "text": [
      "[[ 1]\n",
      " [ 2]\n",
      " [ 3]\n",
      " [ 4]\n",
      " [ 5]\n",
      " [ 6]\n",
      " [ 7]\n",
      " [ 8]\n",
      " [ 9]\n",
      " [10]]\n"
     ]
    }
   ],
   "source": [
    "print(X)"
   ]
  },
  {
   "cell_type": "code",
   "execution_count": 4,
   "metadata": {
    "colab": {
     "base_uri": "https://localhost:8080/"
    },
    "executionInfo": {
     "elapsed": 10,
     "status": "ok",
     "timestamp": 1628111046522,
     "user": {
      "displayName": "Aadhishrii Patiil",
      "photoUrl": "https://lh3.googleusercontent.com/a-/AOh14GiRxg2Xzt3H395CcMSBSnKUWXGUffwK04DbI7PjLhY=s64",
      "userId": "01064352760328716387"
     },
     "user_tz": -330
    },
    "id": "P1CzeAyRiU3c",
    "outputId": "1010253a-d1e2-4b13-b406-5b1600ca864f"
   },
   "outputs": [
    {
     "name": "stdout",
     "output_type": "stream",
     "text": [
      "[  45000   50000   60000   80000  110000  150000  200000  300000  500000\n",
      " 1000000]\n"
     ]
    }
   ],
   "source": [
    "print(y)"
   ]
  },
  {
   "cell_type": "code",
   "execution_count": 5,
   "metadata": {
    "executionInfo": {
     "elapsed": 9,
     "status": "ok",
     "timestamp": 1628111046523,
     "user": {
      "displayName": "Aadhishrii Patiil",
      "photoUrl": "https://lh3.googleusercontent.com/a-/AOh14GiRxg2Xzt3H395CcMSBSnKUWXGUffwK04DbI7PjLhY=s64",
      "userId": "01064352760328716387"
     },
     "user_tz": -330
    },
    "id": "_8Ny1GfPiV3m"
   },
   "outputs": [],
   "source": [
    "y = y.reshape(len(y),1) # reshape(no of rows, no of columns)"
   ]
  },
  {
   "cell_type": "code",
   "execution_count": 6,
   "metadata": {
    "colab": {
     "base_uri": "https://localhost:8080/"
    },
    "executionInfo": {
     "elapsed": 9,
     "status": "ok",
     "timestamp": 1628111046523,
     "user": {
      "displayName": "Aadhishrii Patiil",
      "photoUrl": "https://lh3.googleusercontent.com/a-/AOh14GiRxg2Xzt3H395CcMSBSnKUWXGUffwK04DbI7PjLhY=s64",
      "userId": "01064352760328716387"
     },
     "user_tz": -330
    },
    "id": "D4aFLlbziaV9",
    "outputId": "ca342b78-a48a-47ca-b53b-c2be77cf57ae"
   },
   "outputs": [
    {
     "name": "stdout",
     "output_type": "stream",
     "text": [
      "[[  45000]\n",
      " [  50000]\n",
      " [  60000]\n",
      " [  80000]\n",
      " [ 110000]\n",
      " [ 150000]\n",
      " [ 200000]\n",
      " [ 300000]\n",
      " [ 500000]\n",
      " [1000000]]\n"
     ]
    }
   ],
   "source": [
    "print(y)"
   ]
  },
  {
   "cell_type": "markdown",
   "metadata": {
    "id": "YS8FeLHYS-nI"
   },
   "source": [
    "## Feature Scaling"
   ]
  },
  {
   "cell_type": "code",
   "execution_count": 7,
   "metadata": {
    "executionInfo": {
     "elapsed": 486,
     "status": "ok",
     "timestamp": 1628111047003,
     "user": {
      "displayName": "Aadhishrii Patiil",
      "photoUrl": "https://lh3.googleusercontent.com/a-/AOh14GiRxg2Xzt3H395CcMSBSnKUWXGUffwK04DbI7PjLhY=s64",
      "userId": "01064352760328716387"
     },
     "user_tz": -330
    },
    "id": "PGeAlD1HTDI1"
   },
   "outputs": [],
   "source": [
    "# we need for this because there is no explicit equation for the dependent variables like we had for the linear regressions\n",
    "# therefore there are no coefficients compensating with lower values for the features with higher values\n",
    "# SVM has an implicit equation for the dependent variable with respect to the features\n",
    "\n",
    "from sklearn.preprocessing import StandardScaler\n",
    "# not using the same object for both the dependent and independent variables (x & y)\n",
    "# when we fir the object on the data it computes the mean and standard deviation (s.d.)\n",
    "# since both the data ranges are different we cannot use the same object with same mean and s.d. values\n",
    "sc_X = StandardScaler()\n",
    "sc_y = StandardScaler()\n",
    "\n",
    "# applying feature scaling to both dependent and independent variables\n",
    "X = sc_X.fit_transform(X)\n",
    "y = sc_y.fit_transform(y)"
   ]
  },
  {
   "cell_type": "code",
   "execution_count": 8,
   "metadata": {
    "colab": {
     "base_uri": "https://localhost:8080/"
    },
    "executionInfo": {
     "elapsed": 23,
     "status": "ok",
     "timestamp": 1628111047004,
     "user": {
      "displayName": "Aadhishrii Patiil",
      "photoUrl": "https://lh3.googleusercontent.com/a-/AOh14GiRxg2Xzt3H395CcMSBSnKUWXGUffwK04DbI7PjLhY=s64",
      "userId": "01064352760328716387"
     },
     "user_tz": -330
    },
    "id": "nXa8Z9FgjFTQ",
    "outputId": "1553ab5d-6290-48a7-8d9d-3437c315c6c1"
   },
   "outputs": [
    {
     "name": "stdout",
     "output_type": "stream",
     "text": [
      "[[-1.5666989 ]\n",
      " [-1.21854359]\n",
      " [-0.87038828]\n",
      " [-0.52223297]\n",
      " [-0.17407766]\n",
      " [ 0.17407766]\n",
      " [ 0.52223297]\n",
      " [ 0.87038828]\n",
      " [ 1.21854359]\n",
      " [ 1.5666989 ]]\n"
     ]
    }
   ],
   "source": [
    "print(X)"
   ]
  },
  {
   "cell_type": "code",
   "execution_count": 9,
   "metadata": {
    "colab": {
     "base_uri": "https://localhost:8080/"
    },
    "executionInfo": {
     "elapsed": 22,
     "status": "ok",
     "timestamp": 1628111047005,
     "user": {
      "displayName": "Aadhishrii Patiil",
      "photoUrl": "https://lh3.googleusercontent.com/a-/AOh14GiRxg2Xzt3H395CcMSBSnKUWXGUffwK04DbI7PjLhY=s64",
      "userId": "01064352760328716387"
     },
     "user_tz": -330
    },
    "id": "i7Oo2kybjGr2",
    "outputId": "b6e7b73b-caf3-4482-ab6b-80176324d671"
   },
   "outputs": [
    {
     "name": "stdout",
     "output_type": "stream",
     "text": [
      "[[-0.72004253]\n",
      " [-0.70243757]\n",
      " [-0.66722767]\n",
      " [-0.59680786]\n",
      " [-0.49117815]\n",
      " [-0.35033854]\n",
      " [-0.17428902]\n",
      " [ 0.17781001]\n",
      " [ 0.88200808]\n",
      " [ 2.64250325]]\n"
     ]
    }
   ],
   "source": [
    "print(y)"
   ]
  },
  {
   "cell_type": "markdown",
   "metadata": {
    "id": "eiU6D2QFRjxY"
   },
   "source": [
    "## Training the SVR model on the whole dataset"
   ]
  },
  {
   "cell_type": "code",
   "execution_count": 10,
   "metadata": {
    "colab": {
     "base_uri": "https://localhost:8080/"
    },
    "executionInfo": {
     "elapsed": 16,
     "status": "ok",
     "timestamp": 1628111047006,
     "user": {
      "displayName": "Aadhishrii Patiil",
      "photoUrl": "https://lh3.googleusercontent.com/a-/AOh14GiRxg2Xzt3H395CcMSBSnKUWXGUffwK04DbI7PjLhY=s64",
      "userId": "01064352760328716387"
     },
     "user_tz": -330
    },
    "id": "y6R4rt_GRz15",
    "outputId": "861dd2b1-555f-4c7b-da86-a7f714ccd419"
   },
   "outputs": [
    {
     "name": "stderr",
     "output_type": "stream",
     "text": [
      "/opt/anaconda3/lib/python3.8/site-packages/sklearn/utils/validation.py:63: DataConversionWarning: A column-vector y was passed when a 1d array was expected. Please change the shape of y to (n_samples, ), for example using ravel().\n",
      "  return f(*args, **kwargs)\n"
     ]
    },
    {
     "data": {
      "text/plain": [
       "SVR()"
      ]
     },
     "execution_count": 10,
     "metadata": {},
     "output_type": "execute_result"
    }
   ],
   "source": [
    "# We dont split into test and train cause we want to leverage maximum data to learn the correlation between the position and salary\n",
    "from sklearn.svm import SVR\n",
    "regressor = SVR(kernel = 'rbf') # kernel -> linear or non linear therefore works for all kinds of data\n",
    "regressor.fit(X, y)"
   ]
  },
  {
   "cell_type": "markdown",
   "metadata": {
    "id": "deDnDr8UR5vq"
   },
   "source": [
    "## Predicting a new result"
   ]
  },
  {
   "cell_type": "code",
   "execution_count": 11,
   "metadata": {
    "colab": {
     "base_uri": "https://localhost:8080/"
    },
    "executionInfo": {
     "elapsed": 11,
     "status": "ok",
     "timestamp": 1628111047006,
     "user": {
      "displayName": "Aadhishrii Patiil",
      "photoUrl": "https://lh3.googleusercontent.com/a-/AOh14GiRxg2Xzt3H395CcMSBSnKUWXGUffwK04DbI7PjLhY=s64",
      "userId": "01064352760328716387"
     },
     "user_tz": -330
    },
    "id": "ib89-Fq8R8v-",
    "outputId": "1e4c8b28-3976-4e1a-b174-112bc481ac13"
   },
   "outputs": [
    {
     "data": {
      "text/plain": [
       "array([170370.0204065])"
      ]
     },
     "execution_count": 11,
     "metadata": {},
     "output_type": "execute_result"
    }
   ],
   "source": [
    "sc_y.inverse_transform(regressor.predict(sc_X.transform([[6.5]])))\n",
    "\n",
    "# sc_X.transform([[6.5]] -> to make sure that the value provided is of the same scale as the matrix of features\n",
    "# regressor.predict(sc_X.transform([[6.5]])) -> returns the predicted salary in the new scale "
   ]
  },
  {
   "cell_type": "markdown",
   "metadata": {
    "id": "zzedFlUISSu_"
   },
   "source": [
    "## Visualising the SVR results"
   ]
  },
  {
   "cell_type": "code",
   "execution_count": 12,
   "metadata": {
    "colab": {
     "base_uri": "https://localhost:8080/",
     "height": 295
    },
    "executionInfo": {
     "elapsed": 587,
     "status": "ok",
     "timestamp": 1628111047585,
     "user": {
      "displayName": "Aadhishrii Patiil",
      "photoUrl": "https://lh3.googleusercontent.com/a-/AOh14GiRxg2Xzt3H395CcMSBSnKUWXGUffwK04DbI7PjLhY=s64",
      "userId": "01064352760328716387"
     },
     "user_tz": -330
    },
    "id": "OWPRGsKpSW9U",
    "outputId": "276c212d-0d7c-4406-82fc-672cfdcf8f14"
   },
   "outputs": [
    {
     "data": {
      "image/png": "[encoded data removed]",
      "text/plain": [
       "<Figure size 432x288 with 1 Axes>"
      ]
     },
     "metadata": {
      "needs_background": "light"
     },
     "output_type": "display_data"
    }
   ],
   "source": [
    "plt.scatter(sc_X.inverse_transform(X), sc_y.inverse_transform(y), color = 'red')\n",
    "plt.plot(sc_X.inverse_transform(X), sc_y.inverse_transform(regressor.predict(X)), color = 'blue')\n",
    "plt.title('Truth or Bluff (SVR)')\n",
    "plt.xlabel('Position level')\n",
    "plt.ylabel('Salary')\n",
    "plt.show()"
   ]
  },
  {
   "cell_type": "code",
   "execution_count": 13,
   "metadata": {
    "colab": {
     "base_uri": "https://localhost:8080/",
     "height": 301
    },
    "executionInfo": {
     "elapsed": 452,
     "status": "ok",
     "timestamp": 1628111094131,
     "user": {
      "displayName": "Aadhishrii Patiil",
      "photoUrl": "https://lh3.googleusercontent.com/a-/AOh14GiRxg2Xzt3H395CcMSBSnKUWXGUffwK04DbI7PjLhY=s64",
      "userId": "01064352760328716387"
     },
     "user_tz": -330
    },
    "id": "zg4WxlQF-yIM",
    "outputId": "cd0eb1d7-f972-4207-80ee-25a90243951d"
   },
   "outputs": [
    {
     "data": {
      "image/png": "[encoded data removed]",
      "text/plain": [
       "<Figure size 432x288 with 1 Axes>"
      ]
     },
     "metadata": {
      "needs_background": "light"
     },
     "output_type": "display_data"
    }
   ],
   "source": [
    "plt.scatter(sc_X.inverse_transform(X), sc_y.inverse_transform(y), color = 'red')\n",
    "plt.plot(sc_X.inverse_transform(X), sc_y.inverse_transform(regressor.predict(X)), color = 'blue')\n",
    "plt.title('Truth or Bluff (SVR)')\n",
    "plt.xlabel('Position level')\n",
    "plt.ylabel('Salary')\n",
    "# sns.set_style(\"whitegrid\")\n",
    "# sns.set_style(\"dark\")\n",
    "# sns.set_style(\"ticks\")\n",
    "# sns.set_style(\"darkgrid\", {'grid.color': '.5'})\n",
    "# sns.set_style(\"dark\")\n",
    "# sns.set_context(\"poster\")\n",
    "sns.set()\n",
    "plt.show()"
   ]
  },
  {
   "cell_type": "markdown",
   "metadata": {
    "id": "UahPVNlJSZ-K"
   },
   "source": [
    "## Visualising the SVR results (for higher resolution and smoother curve)"
   ]
  },
  {
   "cell_type": "code",
   "execution_count": 14,
   "metadata": {
    "colab": {
     "base_uri": "https://localhost:8080/",
     "height": 295
    },
    "executionInfo": {
     "elapsed": 27,
     "status": "ok",
     "timestamp": 1628111047585,
     "user": {
      "displayName": "Aadhishrii Patiil",
      "photoUrl": "https://lh3.googleusercontent.com/a-/AOh14GiRxg2Xzt3H395CcMSBSnKUWXGUffwK04DbI7PjLhY=s64",
      "userId": "01064352760328716387"
     },
     "user_tz": -330
    },
    "id": "7fkhPL7RSd2X",
    "outputId": "d934303b-47f3-4cc0-fb6e-eed706fcc17e"
   },
   "outputs": [
    {
     "data": {
      "image/png": "[encoded data removed]",
      "text/plain": [
       "<Figure size 432x288 with 1 Axes>"
      ]
     },
     "metadata": {},
     "output_type": "display_data"
    }
   ],
   "source": [
    "X_grid = np.arange(min(sc_X.inverse_transform(X)), max(sc_X.inverse_transform(X)), 0.1)\n",
    "X_grid = X_grid.reshape((len(X_grid), 1))\n",
    "plt.scatter(sc_X.inverse_transform(X), sc_y.inverse_transform(y), color = 'red')\n",
    "plt.plot(X_grid, sc_y.inverse_transform(regressor.predict(sc_X.transform(X_grid))), color = 'blue')\n",
    "plt.title('Truth or Bluff (SVR)')\n",
    "plt.xlabel('Position level')\n",
    "plt.ylabel('Salary')\n",
    "plt.show()"
   ]
  }
 ],
 "metadata": {
  "colab": {
   "collapsed_sections": [],
   "name": "support_vector_regression.ipynb",
   "provenance": []
  },
  "kernelspec": {
   "display_name": "Python 3",
   "language": "python",
   "name": "python3"
  },
  "language_info": {
   "codemirror_mode": {
    "name": "ipython",
    "version": 3
   },
   "file_extension": ".py",
   "mimetype": "text/x-python",
   "name": "python",
   "nbconvert_exporter": "python",
   "pygments_lexer": "ipython3",
   "version": "3.8.8"
  }
 },
 "nbformat": 4,
 "nbformat_minor": 1
}
