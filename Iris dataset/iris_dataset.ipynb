{
 "cells": [
  {
   "cell_type": "markdown",
   "metadata": {
    "id": "u4LwT9cL2aOz"
   },
   "source": [
    "## The Iris Dataset\n",
    "\n",
    "### Classification of species of flowers"
   ]
  },
  {
   "cell_type": "markdown",
   "metadata": {
    "id": "yigfJ7Ol-ZWP"
   },
   "source": [
    "## Importing libraries"
   ]
  },
  {
   "cell_type": "code",
   "execution_count": 68,
   "metadata": {
    "id": "UAcYmH5L2hSm"
   },
   "outputs": [],
   "source": [
    "import numpy as np #to work with arrays\n",
    "import matplotlib.pyplot as plt #to plot graphs\n",
    "import pandas as pd"
   ]
  },
  {
   "cell_type": "markdown",
   "metadata": {
    "id": "KdHZstVw-eoc"
   },
   "source": [
    "## Importing Dataset"
   ]
  },
  {
   "cell_type": "code",
   "execution_count": 69,
   "metadata": {
    "id": "H5Ub7ck1-joU"
   },
   "outputs": [],
   "source": [
    "# dataset = pd.read_csv(\"IRIS.csv\") #read all the data from the file and create a data frame\n",
    "# X = dataset.iloc[:, :-1].values #everything except last column (independent variable vector/features)\n",
    "# #iloc is a function in pd\n",
    "# #includes lower bound, excludes upper bound\n",
    "# y = dataset.iloc[:, -1].values #last column (dependent variable vector)"
   ]
  },
  {
   "cell_type": "code",
   "execution_count": 70,
   "metadata": {
    "id": "XrPZdpRNaiTc"
   },
   "outputs": [],
   "source": [
    "dataset = pd.read_csv(\"../Datasets/IRIS.csv\") \n",
    "dataset.columns=['sepal_length','sepal_width','petal_length','petal_width','species'] #read all the data from the file and create a data frame\n",
    "X = dataset.drop(columns=['species'])\n",
    "y = dataset['species']"
   ]
  },
  {
   "cell_type": "code",
   "execution_count": 71,
   "metadata": {
    "colab": {
     "base_uri": "https://localhost:8080/",
     "height": 419
    },
    "executionInfo": {
     "elapsed": 41,
     "status": "ok",
     "timestamp": 1628751840122,
     "user": {
      "displayName": "Aadhishrii Patiil",
      "photoUrl": "https://lh3.googleusercontent.com/a-/AOh14GiRxg2Xzt3H395CcMSBSnKUWXGUffwK04DbI7PjLhY=s64",
      "userId": "01064352760328716387"
     },
     "user_tz": -330
    },
    "id": "WmCIu6O88gZ0",
    "outputId": "a48045fb-6413-4fee-c849-a78848fcee13"
   },
   "outputs": [
    {
     "data": {
      "text/html": [
       "<div>\n",
       "<style scoped>\n",
       "    .dataframe tbody tr th:only-of-type {\n",
       "        vertical-align: middle;\n",
       "    }\n",
       "\n",
       "    .dataframe tbody tr th {\n",
       "        vertical-align: top;\n",
       "    }\n",
       "\n",
       "    .dataframe thead th {\n",
       "        text-align: right;\n",
       "    }\n",
       "</style>\n",
       "<table border=\"1\" class=\"dataframe\">\n",
       "  <thead>\n",
       "    <tr style=\"text-align: right;\">\n",
       "      <th></th>\n",
       "      <th>sepal_length</th>\n",
       "      <th>sepal_width</th>\n",
       "      <th>petal_length</th>\n",
       "      <th>petal_width</th>\n",
       "      <th>species</th>\n",
       "    </tr>\n",
       "  </thead>\n",
       "  <tbody>\n",
       "    <tr>\n",
       "      <th>0</th>\n",
       "      <td>5.1</td>\n",
       "      <td>3.5</td>\n",
       "      <td>1.4</td>\n",
       "      <td>0.2</td>\n",
       "      <td>Iris-setosa</td>\n",
       "    </tr>\n",
       "    <tr>\n",
       "      <th>1</th>\n",
       "      <td>4.9</td>\n",
       "      <td>3.0</td>\n",
       "      <td>1.4</td>\n",
       "      <td>0.2</td>\n",
       "      <td>Iris-setosa</td>\n",
       "    </tr>\n",
       "    <tr>\n",
       "      <th>2</th>\n",
       "      <td>4.7</td>\n",
       "      <td>3.2</td>\n",
       "      <td>1.3</td>\n",
       "      <td>0.2</td>\n",
       "      <td>Iris-setosa</td>\n",
       "    </tr>\n",
       "    <tr>\n",
       "      <th>3</th>\n",
       "      <td>4.6</td>\n",
       "      <td>3.1</td>\n",
       "      <td>1.5</td>\n",
       "      <td>0.2</td>\n",
       "      <td>Iris-setosa</td>\n",
       "    </tr>\n",
       "    <tr>\n",
       "      <th>4</th>\n",
       "      <td>5.0</td>\n",
       "      <td>3.6</td>\n",
       "      <td>1.4</td>\n",
       "      <td>0.2</td>\n",
       "      <td>Iris-setosa</td>\n",
       "    </tr>\n",
       "    <tr>\n",
       "      <th>...</th>\n",
       "      <td>...</td>\n",
       "      <td>...</td>\n",
       "      <td>...</td>\n",
       "      <td>...</td>\n",
       "      <td>...</td>\n",
       "    </tr>\n",
       "    <tr>\n",
       "      <th>145</th>\n",
       "      <td>6.7</td>\n",
       "      <td>3.0</td>\n",
       "      <td>5.2</td>\n",
       "      <td>2.3</td>\n",
       "      <td>Iris-virginica</td>\n",
       "    </tr>\n",
       "    <tr>\n",
       "      <th>146</th>\n",
       "      <td>6.3</td>\n",
       "      <td>2.5</td>\n",
       "      <td>5.0</td>\n",
       "      <td>1.9</td>\n",
       "      <td>Iris-virginica</td>\n",
       "    </tr>\n",
       "    <tr>\n",
       "      <th>147</th>\n",
       "      <td>6.5</td>\n",
       "      <td>3.0</td>\n",
       "      <td>5.2</td>\n",
       "      <td>2.0</td>\n",
       "      <td>Iris-virginica</td>\n",
       "    </tr>\n",
       "    <tr>\n",
       "      <th>148</th>\n",
       "      <td>6.2</td>\n",
       "      <td>3.4</td>\n",
       "      <td>5.4</td>\n",
       "      <td>2.3</td>\n",
       "      <td>Iris-virginica</td>\n",
       "    </tr>\n",
       "    <tr>\n",
       "      <th>149</th>\n",
       "      <td>5.9</td>\n",
       "      <td>3.0</td>\n",
       "      <td>5.1</td>\n",
       "      <td>1.8</td>\n",
       "      <td>Iris-virginica</td>\n",
       "    </tr>\n",
       "  </tbody>\n",
       "</table>\n",
       "<p>150 rows × 5 columns</p>\n",
       "</div>"
      ],
      "text/plain": [
       "     sepal_length  sepal_width  petal_length  petal_width         species\n",
       "0             5.1          3.5           1.4          0.2     Iris-setosa\n",
       "1             4.9          3.0           1.4          0.2     Iris-setosa\n",
       "2             4.7          3.2           1.3          0.2     Iris-setosa\n",
       "3             4.6          3.1           1.5          0.2     Iris-setosa\n",
       "4             5.0          3.6           1.4          0.2     Iris-setosa\n",
       "..            ...          ...           ...          ...             ...\n",
       "145           6.7          3.0           5.2          2.3  Iris-virginica\n",
       "146           6.3          2.5           5.0          1.9  Iris-virginica\n",
       "147           6.5          3.0           5.2          2.0  Iris-virginica\n",
       "148           6.2          3.4           5.4          2.3  Iris-virginica\n",
       "149           5.9          3.0           5.1          1.8  Iris-virginica\n",
       "\n",
       "[150 rows x 5 columns]"
      ]
     },
     "execution_count": 71,
     "metadata": {},
     "output_type": "execute_result"
    }
   ],
   "source": [
    "dataset"
   ]
  },
  {
   "cell_type": "code",
   "execution_count": 72,
   "metadata": {
    "colab": {
     "base_uri": "https://localhost:8080/"
    },
    "executionInfo": {
     "elapsed": 32,
     "status": "ok",
     "timestamp": 1628751840122,
     "user": {
      "displayName": "Aadhishrii Patiil",
      "photoUrl": "https://lh3.googleusercontent.com/a-/AOh14GiRxg2Xzt3H395CcMSBSnKUWXGUffwK04DbI7PjLhY=s64",
      "userId": "01064352760328716387"
     },
     "user_tz": -330
    },
    "id": "RKbIiJ9y-zLk",
    "outputId": "9d70298c-3fe8-4d07-95af-2008c83071cb"
   },
   "outputs": [
    {
     "data": {
      "text/plain": [
       "pandas.core.frame.DataFrame"
      ]
     },
     "execution_count": 72,
     "metadata": {},
     "output_type": "execute_result"
    }
   ],
   "source": [
    "type(X)"
   ]
  },
  {
   "cell_type": "code",
   "execution_count": 73,
   "metadata": {
    "colab": {
     "base_uri": "https://localhost:8080/"
    },
    "executionInfo": {
     "elapsed": 27,
     "status": "ok",
     "timestamp": 1628751840123,
     "user": {
      "displayName": "Aadhishrii Patiil",
      "photoUrl": "https://lh3.googleusercontent.com/a-/AOh14GiRxg2Xzt3H395CcMSBSnKUWXGUffwK04DbI7PjLhY=s64",
      "userId": "01064352760328716387"
     },
     "user_tz": -330
    },
    "id": "eGDVz2sl_EOc",
    "outputId": "458c0896-2702-43db-ccbf-481563879c8f"
   },
   "outputs": [
    {
     "data": {
      "text/plain": [
       "0         Iris-setosa\n",
       "1         Iris-setosa\n",
       "2         Iris-setosa\n",
       "3         Iris-setosa\n",
       "4         Iris-setosa\n",
       "            ...      \n",
       "145    Iris-virginica\n",
       "146    Iris-virginica\n",
       "147    Iris-virginica\n",
       "148    Iris-virginica\n",
       "149    Iris-virginica\n",
       "Name: species, Length: 150, dtype: object"
      ]
     },
     "execution_count": 73,
     "metadata": {},
     "output_type": "execute_result"
    }
   ],
   "source": [
    "y"
   ]
  },
  {
   "cell_type": "markdown",
   "metadata": {
    "id": "zinrAe7sBUs_"
   },
   "source": [
    "##Encoding the dependent variable"
   ]
  },
  {
   "cell_type": "code",
   "execution_count": 74,
   "metadata": {
    "id": "YypIs1OGBndP"
   },
   "outputs": [],
   "source": [
    "from sklearn.preprocessing import LabelEncoder\n",
    "le = LabelEncoder()\n",
    "y = le.fit_transform(y)\n",
    "\n",
    "# pandas replace with dictionary\n",
    "# y = y.replace({'species': {'Iris-setosa': 0 , 'Iris-versicolor': 1, 'Iris-virginica': 2}})"
   ]
  },
  {
   "cell_type": "code",
   "execution_count": 75,
   "metadata": {
    "colab": {
     "base_uri": "https://localhost:8080/"
    },
    "executionInfo": {
     "elapsed": 37,
     "status": "ok",
     "timestamp": 1628751841796,
     "user": {
      "displayName": "Aadhishrii Patiil",
      "photoUrl": "https://lh3.googleusercontent.com/a-/AOh14GiRxg2Xzt3H395CcMSBSnKUWXGUffwK04DbI7PjLhY=s64",
      "userId": "01064352760328716387"
     },
     "user_tz": -330
    },
    "id": "xKz7OrsABpJ6",
    "outputId": "fabe5488-e290-4d46-a06a-aaeebd4ce78e"
   },
   "outputs": [
    {
     "name": "stdout",
     "output_type": "stream",
     "text": [
      "[0 0 0 0 0 0 0 0 0 0 0 0 0 0 0 0 0 0 0 0 0 0 0 0 0 0 0 0 0 0 0 0 0 0 0 0 0\n",
      " 0 0 0 0 0 0 0 0 0 0 0 0 0 1 1 1 1 1 1 1 1 1 1 1 1 1 1 1 1 1 1 1 1 1 1 1 1\n",
      " 1 1 1 1 1 1 1 1 1 1 1 1 1 1 1 1 1 1 1 1 1 1 1 1 1 1 2 2 2 2 2 2 2 2 2 2 2\n",
      " 2 2 2 2 2 2 2 2 2 2 2 2 2 2 2 2 2 2 2 2 2 2 2 2 2 2 2 2 2 2 2 2 2 2 2 2 2\n",
      " 2 2]\n"
     ]
    }
   ],
   "source": [
    "print(y)"
   ]
  },
  {
   "cell_type": "markdown",
   "metadata": {
    "id": "035s43TICJeX"
   },
   "source": [
    "## Splitting dataset into Training set and Test set"
   ]
  },
  {
   "cell_type": "code",
   "execution_count": 76,
   "metadata": {
    "id": "lPwyEUtGCG7Y"
   },
   "outputs": [],
   "source": [
    "from sklearn.model_selection import train_test_split\n",
    "X_train, X_test, y_train, y_test = train_test_split(X, y, test_size = 0.2, random_state = 1)\n",
    "# try scores with different values of test size\n",
    "# 0.3 -> drops to 95\n",
    "# 0.5 -> drops to 90"
   ]
  },
  {
   "cell_type": "code",
   "execution_count": 77,
   "metadata": {
    "colab": {
     "base_uri": "https://localhost:8080/"
    },
    "executionInfo": {
     "elapsed": 34,
     "status": "ok",
     "timestamp": 1628751841797,
     "user": {
      "displayName": "Aadhishrii Patiil",
      "photoUrl": "https://lh3.googleusercontent.com/a-/AOh14GiRxg2Xzt3H395CcMSBSnKUWXGUffwK04DbI7PjLhY=s64",
      "userId": "01064352760328716387"
     },
     "user_tz": -330
    },
    "id": "Opa7m5bQqDOL",
    "outputId": "06f065aa-5810-4c6d-b788-4d9d9fa51f7f"
   },
   "outputs": [
    {
     "name": "stdout",
     "output_type": "stream",
     "text": [
      "(120, 4)\n"
     ]
    }
   ],
   "source": [
    "print(X_train.shape)"
   ]
  },
  {
   "cell_type": "code",
   "execution_count": 78,
   "metadata": {
    "colab": {
     "base_uri": "https://localhost:8080/"
    },
    "executionInfo": {
     "elapsed": 30,
     "status": "ok",
     "timestamp": 1628751841798,
     "user": {
      "displayName": "Aadhishrii Patiil",
      "photoUrl": "https://lh3.googleusercontent.com/a-/AOh14GiRxg2Xzt3H395CcMSBSnKUWXGUffwK04DbI7PjLhY=s64",
      "userId": "01064352760328716387"
     },
     "user_tz": -330
    },
    "id": "mqQiEoCfqN2c",
    "outputId": "c1eb576d-20f9-4431-9bec-6b8a44dd293c"
   },
   "outputs": [
    {
     "name": "stdout",
     "output_type": "stream",
     "text": [
      "(30, 4)\n"
     ]
    }
   ],
   "source": [
    "print(X_test.shape)"
   ]
  },
  {
   "cell_type": "code",
   "execution_count": 79,
   "metadata": {
    "colab": {
     "base_uri": "https://localhost:8080/"
    },
    "executionInfo": {
     "elapsed": 26,
     "status": "ok",
     "timestamp": 1628751841798,
     "user": {
      "displayName": "Aadhishrii Patiil",
      "photoUrl": "https://lh3.googleusercontent.com/a-/AOh14GiRxg2Xzt3H395CcMSBSnKUWXGUffwK04DbI7PjLhY=s64",
      "userId": "01064352760328716387"
     },
     "user_tz": -330
    },
    "id": "EHSTHDnzCNnD",
    "outputId": "8777d33c-bbc7-446d-8186-91411e32f1a9"
   },
   "outputs": [
    {
     "name": "stdout",
     "output_type": "stream",
     "text": [
      "     sepal_length  sepal_width  petal_length  petal_width\n",
      "91            6.1          3.0           4.6          1.4\n",
      "135           7.7          3.0           6.1          2.3\n",
      "69            5.6          2.5           3.9          1.1\n",
      "128           6.4          2.8           5.6          2.1\n",
      "114           5.8          2.8           5.1          2.4\n",
      "..            ...          ...           ...          ...\n",
      "133           6.3          2.8           5.1          1.5\n",
      "137           6.4          3.1           5.5          1.8\n",
      "72            6.3          2.5           4.9          1.5\n",
      "140           6.7          3.1           5.6          2.4\n",
      "37            4.9          3.1           1.5          0.1\n",
      "\n",
      "[120 rows x 4 columns]\n"
     ]
    }
   ],
   "source": [
    "print(X_train)"
   ]
  },
  {
   "cell_type": "code",
   "execution_count": 80,
   "metadata": {
    "colab": {
     "base_uri": "https://localhost:8080/"
    },
    "executionInfo": {
     "elapsed": 24,
     "status": "ok",
     "timestamp": 1628751841799,
     "user": {
      "displayName": "Aadhishrii Patiil",
      "photoUrl": "https://lh3.googleusercontent.com/a-/AOh14GiRxg2Xzt3H395CcMSBSnKUWXGUffwK04DbI7PjLhY=s64",
      "userId": "01064352760328716387"
     },
     "user_tz": -330
    },
    "id": "uOK5-_sqCP4G",
    "outputId": "83f17f58-fd84-4363-9d84-c538e11df501"
   },
   "outputs": [
    {
     "name": "stdout",
     "output_type": "stream",
     "text": [
      "     sepal_length  sepal_width  petal_length  petal_width\n",
      "14            5.8          4.0           1.2          0.2\n",
      "98            5.1          2.5           3.0          1.1\n",
      "75            6.6          3.0           4.4          1.4\n",
      "16            5.4          3.9           1.3          0.4\n",
      "131           7.9          3.8           6.4          2.0\n",
      "56            6.3          3.3           4.7          1.6\n",
      "141           6.9          3.1           5.1          2.3\n",
      "44            5.1          3.8           1.9          0.4\n",
      "29            4.7          3.2           1.6          0.2\n",
      "120           6.9          3.2           5.7          2.3\n",
      "94            5.6          2.7           4.2          1.3\n",
      "5             5.4          3.9           1.7          0.4\n",
      "102           7.1          3.0           5.9          2.1\n",
      "51            6.4          3.2           4.5          1.5\n",
      "78            6.0          2.9           4.5          1.5\n",
      "42            4.4          3.2           1.3          0.2\n",
      "92            5.8          2.6           4.0          1.2\n",
      "66            5.6          3.0           4.5          1.5\n",
      "31            5.4          3.4           1.5          0.4\n",
      "35            5.0          3.2           1.2          0.2\n",
      "90            5.5          2.6           4.4          1.2\n",
      "84            5.4          3.0           4.5          1.5\n",
      "77            6.7          3.0           5.0          1.7\n",
      "40            5.0          3.5           1.3          0.3\n",
      "125           7.2          3.2           6.0          1.8\n",
      "99            5.7          2.8           4.1          1.3\n",
      "33            5.5          4.2           1.4          0.2\n",
      "19            5.1          3.8           1.5          0.3\n",
      "73            6.1          2.8           4.7          1.2\n",
      "146           6.3          2.5           5.0          1.9\n"
     ]
    }
   ],
   "source": [
    "print(X_test)"
   ]
  },
  {
   "cell_type": "code",
   "execution_count": 81,
   "metadata": {
    "colab": {
     "base_uri": "https://localhost:8080/"
    },
    "executionInfo": {
     "elapsed": 23,
     "status": "ok",
     "timestamp": 1628751841800,
     "user": {
      "displayName": "Aadhishrii Patiil",
      "photoUrl": "https://lh3.googleusercontent.com/a-/AOh14GiRxg2Xzt3H395CcMSBSnKUWXGUffwK04DbI7PjLhY=s64",
      "userId": "01064352760328716387"
     },
     "user_tz": -330
    },
    "id": "DVoJKiOgCR7d",
    "outputId": "1e214993-0944-4131-dd0e-7c203edf44c7"
   },
   "outputs": [
    {
     "name": "stdout",
     "output_type": "stream",
     "text": [
      "[1 2 1 2 2 0 1 0 1 2 2 0 2 2 1 2 0 0 0 1 0 0 2 2 2 2 2 1 2 1 0 2 2 0 0 2 0\n",
      " 2 2 1 1 2 2 0 1 1 2 1 2 1 0 0 0 2 0 1 2 2 0 0 1 0 2 1 2 2 1 2 2 1 0 1 0 1\n",
      " 1 0 1 0 0 2 2 2 0 0 1 0 2 0 2 2 0 2 0 1 0 1 1 0 0 1 0 1 1 0 1 1 1 1 2 0 0\n",
      " 2 1 2 1 2 2 1 2 0]\n"
     ]
    }
   ],
   "source": [
    "print(y_train)"
   ]
  },
  {
   "cell_type": "code",
   "execution_count": 82,
   "metadata": {
    "colab": {
     "base_uri": "https://localhost:8080/"
    },
    "executionInfo": {
     "elapsed": 20,
     "status": "ok",
     "timestamp": 1628751841800,
     "user": {
      "displayName": "Aadhishrii Patiil",
      "photoUrl": "https://lh3.googleusercontent.com/a-/AOh14GiRxg2Xzt3H395CcMSBSnKUWXGUffwK04DbI7PjLhY=s64",
      "userId": "01064352760328716387"
     },
     "user_tz": -330
    },
    "id": "g3AcuDr_CTI2",
    "outputId": "4ac9f987-e904-47c0-9c79-71f9389c8849"
   },
   "outputs": [
    {
     "name": "stdout",
     "output_type": "stream",
     "text": [
      "[0 1 1 0 2 1 2 0 0 2 1 0 2 1 1 0 1 1 0 0 1 1 1 0 2 1 0 0 1 2]\n"
     ]
    }
   ],
   "source": [
    "print(y_test)"
   ]
  },
  {
   "cell_type": "markdown",
   "metadata": {
    "id": "FrQeQ93BCaj-"
   },
   "source": [
    "## Feature Scaling"
   ]
  },
  {
   "cell_type": "code",
   "execution_count": 83,
   "metadata": {
    "id": "Fp3Yqn-ECeg6"
   },
   "outputs": [],
   "source": [
    "from sklearn.preprocessing import StandardScaler\n",
    "sc = StandardScaler()\n",
    "#donot apply standardization to dummy variables cause they are in the same scale range\n",
    "#only apply to numeric values\n",
    "X_train=  sc.fit_transform(X_train) \n",
    "#fit -> compute mean and standard deviation for each feature\n",
    "#transform -> applies the standardization formula to transform all the values to the particular range\n",
    "X_test=  sc.transform(X_test)\n",
    "#gini impurity - how decision tree creates the tree"
   ]
  },
  {
   "cell_type": "code",
   "execution_count": 84,
   "metadata": {
    "colab": {
     "base_uri": "https://localhost:8080/"
    },
    "executionInfo": {
     "elapsed": 21,
     "status": "ok",
     "timestamp": 1628751841804,
     "user": {
      "displayName": "Aadhishrii Patiil",
      "photoUrl": "https://lh3.googleusercontent.com/a-/AOh14GiRxg2Xzt3H395CcMSBSnKUWXGUffwK04DbI7PjLhY=s64",
      "userId": "01064352760328716387"
     },
     "user_tz": -330
    },
    "id": "3fdwQe4ACrP0",
    "outputId": "8e5c1233-b153-4077-dd3f-6599e48ce3ee"
   },
   "outputs": [
    {
     "name": "stdout",
     "output_type": "stream",
     "text": [
      "[[-0.04622511  2.3720024  -1.48043619 -1.31466572]\n",
      " [-0.89033581 -1.240184   -0.4597716  -0.15276803]\n",
      " [ 0.91847283 -0.03612186  0.33407864  0.2345312 ]\n",
      " [-0.52857408  2.13118998 -1.4237326  -1.05646624]\n",
      " [ 2.48610699  1.89037755  1.46815041  1.00912966]\n",
      " [ 0.5567111   0.68631542  0.50418941  0.49273069]\n",
      " [ 1.28023456  0.20469056  0.73100376  1.39642889]\n",
      " [-0.89033581  1.89037755 -1.08351107 -1.05646624]\n",
      " [-1.37268478  0.44550299 -1.25362184 -1.31466572]\n",
      " [ 1.28023456  0.44550299  1.07122529  1.39642889]\n",
      " [-0.2873996  -0.75855914  0.22067147  0.10543146]\n",
      " [-0.52857408  2.13118998 -1.19691825 -1.05646624]\n",
      " [ 1.52140905 -0.03612186  1.18463247  1.13822941]\n",
      " [ 0.67729835  0.44550299  0.39078223  0.36363094]\n",
      " [ 0.19494938 -0.27693429  0.39078223  0.36363094]\n",
      " [-1.73444651  0.44550299 -1.4237326  -1.31466572]\n",
      " [-0.04622511 -0.99937157  0.10726429 -0.02366829]\n",
      " [-0.2873996  -0.03612186  0.39078223  0.36363094]\n",
      " [-0.52857408  0.92712784 -1.31032543 -1.05646624]\n",
      " [-1.01092305  0.44550299 -1.48043619 -1.31466572]\n",
      " [-0.40798684 -0.99937157  0.33407864 -0.02366829]\n",
      " [-0.52857408 -0.03612186  0.39078223  0.36363094]\n",
      " [ 1.03906007 -0.03612186  0.67430017  0.62183043]\n",
      " [-1.01092305  1.16794027 -1.4237326  -1.18556598]\n",
      " [ 1.64199629  0.44550299  1.24133606  0.75093018]\n",
      " [-0.16681235 -0.51774672  0.16396788  0.10543146]\n",
      " [-0.40798684  2.85362726 -1.36702901 -1.31466572]\n",
      " [-0.89033581  1.89037755 -1.31032543 -1.18556598]\n",
      " [ 0.31553662 -0.51774672  0.50418941 -0.02366829]\n",
      " [ 0.5567111  -1.240184    0.67430017  0.88002992]]\n"
     ]
    }
   ],
   "source": [
    "print(X_test)"
   ]
  },
  {
   "cell_type": "code",
   "execution_count": 85,
   "metadata": {
    "colab": {
     "base_uri": "https://localhost:8080/"
    },
    "executionInfo": {
     "elapsed": 17,
     "status": "ok",
     "timestamp": 1628751841804,
     "user": {
      "displayName": "Aadhishrii Patiil",
      "photoUrl": "https://lh3.googleusercontent.com/a-/AOh14GiRxg2Xzt3H395CcMSBSnKUWXGUffwK04DbI7PjLhY=s64",
      "userId": "01064352760328716387"
     },
     "user_tz": -330
    },
    "id": "gvWzxL1zCrTn",
    "outputId": "948cc538-26a9-485c-f396-c89e8cadba57"
   },
   "outputs": [
    {
     "name": "stdout",
     "output_type": "stream",
     "text": [
      "[[ 0.31553662 -0.03612186  0.44748582  0.2345312 ]\n",
      " [ 2.2449325  -0.03612186  1.29803965  1.39642889]\n",
      " [-0.2873996  -1.240184    0.0505607  -0.15276803]\n",
      " [ 0.67729835 -0.51774672  1.01452171  1.13822941]\n",
      " [-0.04622511 -0.51774672  0.73100376  1.52552864]\n",
      " [-0.64916132  1.64956512 -1.31032543 -1.31466572]\n",
      " [-0.40798684 -1.72180885  0.10726429  0.10543146]\n",
      " [-0.76974857  0.92712784 -1.36702901 -1.31466572]\n",
      " [ 0.79788559 -0.51774672  0.44748582  0.36363094]\n",
      " [ 1.03906007 -1.240184    1.12792888  0.75093018]\n",
      " [ 1.15964732 -0.03612186  0.95781812  1.13822941]\n",
      " [-0.89033581  1.16794027 -1.36702901 -1.18556598]\n",
      " [ 0.19494938 -1.96262128  0.67430017  0.36363094]\n",
      " [ 0.5567111  -0.27693429  1.01452171  0.75093018]\n",
      " [ 0.91847283 -0.27693429  0.44748582  0.10543146]\n",
      " [ 2.2449325  -0.99937157  1.75166836  1.39642889]\n",
      " [-0.16681235  1.89037755 -1.19691825 -1.18556598]\n",
      " [-1.01092305  1.4087527  -1.36702901 -1.31466572]\n",
      " [-1.25209754 -0.03612186 -1.36702901 -1.18556598]\n",
      " [-0.76974857 -0.75855914  0.0505607   0.2345312 ]\n",
      " [-0.89033581  0.92712784 -1.31032543 -1.31466572]\n",
      " [-0.40798684  1.16794027 -1.4237326  -1.31466572]\n",
      " [ 2.2449325   1.89037755  1.63826118  1.26732915]\n",
      " [ 1.28023456  0.20469056  0.90111453  1.13822941]\n",
      " [ 1.76258353 -0.27693429  1.41144682  0.75093018]\n",
      " [ 0.67729835 -0.51774672  1.01452171  1.26732915]\n",
      " [ 0.43612386 -0.51774672  0.560893    0.75093018]\n",
      " [ 0.19494938  0.92712784  0.39078223  0.49273069]\n",
      " [ 2.2449325  -0.51774672  1.63826118  1.00912966]\n",
      " [-0.16681235 -0.03612186  0.22067147 -0.02366829]\n",
      " [-1.25209754  0.92712784 -1.25362184 -1.31466572]\n",
      " [-0.16681235 -1.240184    0.67430017  1.00912966]\n",
      " [ 0.5567111  -0.75855914  0.61759659  0.75093018]\n",
      " [-1.25209754 -0.03612186 -1.36702901 -1.44376547]\n",
      " [-1.37268478  0.44550299 -1.4237326  -1.31466572]\n",
      " [ 0.79788559 -0.03612186  1.12792888  1.26732915]\n",
      " [-1.49327202  0.92712784 -1.36702901 -1.18556598]\n",
      " [ 0.31553662 -0.03612186  0.61759659  0.75093018]\n",
      " [ 0.79788559  0.44550299  0.73100376  1.00912966]\n",
      " [ 1.03906007  0.20469056  0.33407864  0.2345312 ]\n",
      " [-0.16681235 -0.51774672  0.39078223  0.10543146]\n",
      " [ 1.03906007  0.68631542  1.07122529  1.65462838]\n",
      " [ 0.19494938 -0.03612186  0.560893    0.75093018]\n",
      " [-0.89033581  1.89037755 -1.25362184 -1.31466572]\n",
      " [ 0.19494938 -1.96262128  0.10726429 -0.28186777]\n",
      " [ 0.67729835 -0.27693429  0.27737505  0.10543146]\n",
      " [ 0.79788559 -0.03612186  0.95781812  0.75093018]\n",
      " [-1.01092305 -1.72180885 -0.28966083 -0.28186777]\n",
      " [ 0.5567111   0.68631542  1.24133606  1.65462838]\n",
      " [-0.40798684 -1.240184    0.10726429  0.10543146]\n",
      " [-0.52857408  1.64956512 -1.31032543 -1.31466572]\n",
      " [-1.13151029  0.20469056 -1.31032543 -1.44376547]\n",
      " [-0.76974857  2.61281483 -1.31032543 -1.44376547]\n",
      " [ 1.03906007  0.68631542  1.07122529  1.13822941]\n",
      " [-1.73444651 -0.03612186 -1.4237326  -1.31466572]\n",
      " [ 0.19494938 -0.75855914  0.73100376  0.49273069]\n",
      " [ 0.67729835 -0.75855914  0.84441094  0.88002992]\n",
      " [ 0.07436213 -0.03612186  0.73100376  0.75093018]\n",
      " [-0.76974857  1.16794027 -1.31032543 -1.31466572]\n",
      " [-0.89033581  0.68631542 -1.19691825 -0.92736649]\n",
      " [-0.04622511 -0.75855914  0.16396788 -0.28186777]\n",
      " [-1.13151029  0.20469056 -1.31032543 -1.44376547]\n",
      " [ 1.88317077 -0.51774672  1.29803965  0.88002992]\n",
      " [ 0.43612386 -0.27693429  0.27737505  0.10543146]\n",
      " [ 2.12434526 -0.03612186  1.58155759  1.13822941]\n",
      " [ 1.03906007 -0.03612186  0.78770735  1.39642889]\n",
      " [ 0.5567111  -1.72180885  0.33407864  0.10543146]\n",
      " [ 0.43612386  0.92712784  0.90111453  1.39642889]\n",
      " [ 1.64199629  1.4087527   1.29803965  1.65462838]\n",
      " [-0.2873996  -0.27693429 -0.11955007  0.10543146]\n",
      " [-0.16681235  3.33525211 -1.31032543 -1.05646624]\n",
      " [-0.04622511 -0.75855914  0.0505607  -0.02366829]\n",
      " [-1.61385927 -1.72180885 -1.4237326  -1.18556598]\n",
      " [-0.40798684 -1.48099642 -0.00614289 -0.15276803]\n",
      " [ 1.28023456  0.20469056  0.61759659  0.36363094]\n",
      " [-1.01092305  0.92712784 -1.25362184 -1.05646624]\n",
      " [ 1.15964732 -0.51774672  0.560893    0.2345312 ]\n",
      " [-1.01092305  1.16794027 -1.25362184 -0.79826675]\n",
      " [-1.25209754  0.92712784 -1.08351107 -1.31466572]\n",
      " [ 0.5567111   0.92712784  1.01452171  1.52552864]\n",
      " [-0.2873996  -0.51774672  0.61759659  1.00912966]\n",
      " [ 1.15964732  0.44550299  1.18463247  1.39642889]\n",
      " [-1.01092305  0.68631542 -1.36702901 -1.31466572]\n",
      " [-0.89033581  1.64956512 -1.31032543 -1.05646624]\n",
      " [ 0.07436213  0.44550299  0.560893    0.75093018]\n",
      " [-1.49327202  0.20469056 -1.31032543 -1.31466572]\n",
      " [-0.04622511 -0.75855914  0.73100376  0.88002992]\n",
      " [-1.25209754  0.20469056 -1.25362184 -1.31466572]\n",
      " [ 0.79788559 -0.03612186  0.78770735  1.00912966]\n",
      " [-1.13151029 -1.240184    0.39078223  0.62183043]\n",
      " [-1.49327202  0.44550299 -1.36702901 -1.31466572]\n",
      " [ 0.67729835  0.44550299  0.84441094  1.39642889]\n",
      " [-1.85503375 -0.03612186 -1.53713978 -1.44376547]\n",
      " [-0.2873996  -0.03612186  0.16396788  0.10543146]\n",
      " [-1.73444651 -0.27693429 -1.36702901 -1.31466572]\n",
      " [-0.40798684 -1.48099642 -0.06284648 -0.28186777]\n",
      " [-1.01092305 -2.44424613 -0.17625365 -0.28186777]\n",
      " [-0.89033581  1.16794027 -1.36702901 -1.31466572]\n",
      " [-1.13151029 -0.03612186 -1.36702901 -1.31466572]\n",
      " [-1.13151029 -1.48099642 -0.28966083 -0.28186777]\n",
      " [-1.49327202  1.4087527  -1.59384337 -1.31466572]\n",
      " [ 0.07436213 -0.03612186  0.22067147  0.36363094]\n",
      " [ 0.31553662 -0.27693429  0.50418941  0.2345312 ]\n",
      " [-1.01092305  0.92712784 -1.31032543 -1.31466572]\n",
      " [ 1.03906007  0.20469056  0.50418941  0.36363094]\n",
      " [-0.16681235 -0.27693429  0.22067147  0.10543146]\n",
      " [ 0.43612386 -1.96262128  0.39078223  0.36363094]\n",
      " [ 1.4008218   0.44550299  0.50418941  0.2345312 ]\n",
      " [-0.04622511 -0.75855914  0.73100376  0.88002992]\n",
      " [-0.52857408  0.92712784 -1.19691825 -1.31466572]\n",
      " [-1.01092305 -0.03612186 -1.25362184 -1.31466572]\n",
      " [ 0.31553662 -0.99937157  1.01452171  0.2345312 ]\n",
      " [ 0.31553662 -0.51774672  0.10726429  0.10543146]\n",
      " [ 1.64199629 -0.03612186  1.12792888  0.49273069]\n",
      " [-0.16681235 -0.99937157 -0.17625365 -0.28186777]\n",
      " [ 0.5567111  -0.51774672  0.73100376  0.36363094]\n",
      " [ 0.67729835  0.20469056  0.95781812  0.75093018]\n",
      " [ 0.5567111  -1.240184    0.61759659  0.36363094]\n",
      " [ 1.03906007  0.20469056  1.01452171  1.52552864]\n",
      " [-1.13151029  0.20469056 -1.31032543 -1.44376547]]\n"
     ]
    }
   ],
   "source": [
    "print(X_train)"
   ]
  },
  {
   "cell_type": "markdown",
   "metadata": {
    "id": "MECqEPsEC61O"
   },
   "source": [
    "## Building the model"
   ]
  },
  {
   "cell_type": "code",
   "execution_count": 86,
   "metadata": {
    "id": "Ff9xgl4qC8bu"
   },
   "outputs": [],
   "source": [
    "# grid search - especially for random forest\n",
    "# get the best set of parameters from grid search and get the best model from grid search \n",
    "\n",
    "from sklearn.model_selection import GridSearchCV\n",
    "# Create the parameter grid based on the results of random search \n",
    "param_grid = { \n",
    "    'n_estimators': [200, 500],\n",
    "    'max_features': ['auto', 'sqrt', 'log2'],\n",
    "    'max_depth' : [4,5,6,7,8],\n",
    "    'criterion' :['gini', 'entropy']\n",
    "}\n",
    "# overfitting and underfitting\n",
    "# random forest vs gradient boosted tree\n",
    "\n",
    "# Logistic Regression\n",
    "# from sklearn.linear_model import LogisticRegression\n",
    "# classifier = LogisticRegression(random_state = 0)\n",
    "\n",
    "# Decision tree\n",
    "# from sklearn.tree import DecisionTreeClassifier\n",
    "# classifier = DecisionTreeClassifier(criterion = 'entropy', random_state = 0)\n",
    "\n",
    "# Random Forest\n",
    "from sklearn.ensemble import RandomForestClassifier\n",
    "classifier = RandomForestClassifier(n_estimators = 10, criterion = 'entropy', random_state = 0)\n",
    "\n",
    "# SVM\n",
    "# from sklearn.svm import SVC\n",
    "# classifier = SVC(kernel = 'rbf', random_state = 0)\n",
    "\n",
    "# ADA Boost\n",
    "# from sklearn.ensemble import AdaBoostClassifier\n",
    "# classifier = AdaBoostClassifier(random_state = 0)\n"
   ]
  },
  {
   "cell_type": "code",
   "execution_count": 87,
   "metadata": {
    "colab": {
     "base_uri": "https://localhost:8080/"
    },
    "executionInfo": {
     "elapsed": 148231,
     "status": "ok",
     "timestamp": 1628751990021,
     "user": {
      "displayName": "Aadhishrii Patiil",
      "photoUrl": "https://lh3.googleusercontent.com/a-/AOh14GiRxg2Xzt3H395CcMSBSnKUWXGUffwK04DbI7PjLhY=s64",
      "userId": "01064352760328716387"
     },
     "user_tz": -330
    },
    "id": "HIYAYwH1sbQX",
    "outputId": "1f980f14-2593-4854-d3cb-e23a99bcaf4c"
   },
   "outputs": [
    {
     "data": {
      "text/plain": [
       "GridSearchCV(cv=5,\n",
       "             estimator=RandomForestClassifier(criterion='entropy',\n",
       "                                              n_estimators=10, random_state=0),\n",
       "             param_grid={'criterion': ['gini', 'entropy'],\n",
       "                         'max_depth': [4, 5, 6, 7, 8],\n",
       "                         'max_features': ['auto', 'sqrt', 'log2'],\n",
       "                         'n_estimators': [200, 500]})"
      ]
     },
     "execution_count": 87,
     "metadata": {},
     "output_type": "execute_result"
    }
   ],
   "source": [
    "CV_rfc = GridSearchCV(estimator=classifier, param_grid=param_grid, cv= 5)\n",
    "CV_rfc.fit(X_train, y_train)"
   ]
  },
  {
   "cell_type": "code",
   "execution_count": 88,
   "metadata": {
    "colab": {
     "base_uri": "https://localhost:8080/"
    },
    "executionInfo": {
     "elapsed": 45,
     "status": "ok",
     "timestamp": 1628751990022,
     "user": {
      "displayName": "Aadhishrii Patiil",
      "photoUrl": "https://lh3.googleusercontent.com/a-/AOh14GiRxg2Xzt3H395CcMSBSnKUWXGUffwK04DbI7PjLhY=s64",
      "userId": "01064352760328716387"
     },
     "user_tz": -330
    },
    "id": "zcxKIL8NtW2k",
    "outputId": "f02331f4-546c-4ab8-bfd3-3a8271ab3f61"
   },
   "outputs": [
    {
     "data": {
      "text/plain": [
       "{'criterion': 'gini',\n",
       " 'max_depth': 4,\n",
       " 'max_features': 'auto',\n",
       " 'n_estimators': 200}"
      ]
     },
     "execution_count": 88,
     "metadata": {},
     "output_type": "execute_result"
    }
   ],
   "source": [
    "CV_rfc.best_params_"
   ]
  },
  {
   "cell_type": "code",
   "execution_count": 89,
   "metadata": {
    "id": "fCs_xY4ku1eV"
   },
   "outputs": [],
   "source": [
    "rfc1=RandomForestClassifier(random_state=42, max_features='auto', n_estimators= 200, max_depth=8, criterion='gini')"
   ]
  },
  {
   "cell_type": "code",
   "execution_count": 90,
   "metadata": {
    "colab": {
     "base_uri": "https://localhost:8080/"
    },
    "executionInfo": {
     "elapsed": 41,
     "status": "ok",
     "timestamp": 1628751990023,
     "user": {
      "displayName": "Aadhishrii Patiil",
      "photoUrl": "https://lh3.googleusercontent.com/a-/AOh14GiRxg2Xzt3H395CcMSBSnKUWXGUffwK04DbI7PjLhY=s64",
      "userId": "01064352760328716387"
     },
     "user_tz": -330
    },
    "id": "VNYV_x4xu5NK",
    "outputId": "0c8214ae-0373-40de-eacc-8bdbd4d04f7c"
   },
   "outputs": [
    {
     "data": {
      "text/plain": [
       "RandomForestClassifier(max_depth=8, n_estimators=200, random_state=42)"
      ]
     },
     "execution_count": 90,
     "metadata": {},
     "output_type": "execute_result"
    }
   ],
   "source": [
    "rfc1.fit(X_train, y_train)"
   ]
  },
  {
   "cell_type": "code",
   "execution_count": 91,
   "metadata": {
    "id": "uP0wK3V8u816"
   },
   "outputs": [],
   "source": [
    "pred=rfc1.predict(X_test)"
   ]
  },
  {
   "cell_type": "code",
   "execution_count": 92,
   "metadata": {
    "id": "ydyZUJLsu_VS"
   },
   "outputs": [],
   "source": [
    "# print(\"Accuracy for Random Forest on CV data: \", accuracy_score(y_test,pred))"
   ]
  },
  {
   "cell_type": "markdown",
   "metadata": {
    "id": "Cesl5_q3DHig"
   },
   "source": [
    "## Training the model"
   ]
  },
  {
   "cell_type": "code",
   "execution_count": 93,
   "metadata": {
    "colab": {
     "base_uri": "https://localhost:8080/"
    },
    "executionInfo": {
     "elapsed": 38,
     "status": "ok",
     "timestamp": 1628751990025,
     "user": {
      "displayName": "Aadhishrii Patiil",
      "photoUrl": "https://lh3.googleusercontent.com/a-/AOh14GiRxg2Xzt3H395CcMSBSnKUWXGUffwK04DbI7PjLhY=s64",
      "userId": "01064352760328716387"
     },
     "user_tz": -330
    },
    "id": "yeKq4l6CDI_0",
    "outputId": "f936a001-79d9-4e99-a953-54aa510bb82f"
   },
   "outputs": [
    {
     "data": {
      "text/plain": [
       "RandomForestClassifier(criterion='entropy', n_estimators=10, random_state=0)"
      ]
     },
     "execution_count": 93,
     "metadata": {},
     "output_type": "execute_result"
    }
   ],
   "source": [
    "classifier.fit(X_train,y_train)"
   ]
  },
  {
   "cell_type": "markdown",
   "metadata": {
    "id": "pxm6VKP4D69Z"
   },
   "source": [
    "## Making Predictions"
   ]
  },
  {
   "cell_type": "code",
   "execution_count": 94,
   "metadata": {
    "id": "9rHLHZllDK5R"
   },
   "outputs": [],
   "source": [
    "y_pred=classifier.predict(X_test)"
   ]
  },
  {
   "cell_type": "code",
   "execution_count": 95,
   "metadata": {
    "colab": {
     "base_uri": "https://localhost:8080/"
    },
    "executionInfo": {
     "elapsed": 35,
     "status": "ok",
     "timestamp": 1628751990026,
     "user": {
      "displayName": "Aadhishrii Patiil",
      "photoUrl": "https://lh3.googleusercontent.com/a-/AOh14GiRxg2Xzt3H395CcMSBSnKUWXGUffwK04DbI7PjLhY=s64",
      "userId": "01064352760328716387"
     },
     "user_tz": -330
    },
    "id": "ecc7WldutbRX",
    "outputId": "59f0b736-e698-4668-a576-1078066151b3"
   },
   "outputs": [
    {
     "name": "stdout",
     "output_type": "stream",
     "text": [
      "[[11  0  0]\n",
      " [ 0 12  1]\n",
      " [ 0  0  6]]\n"
     ]
    },
    {
     "data": {
      "text/plain": [
       "0.9666666666666667"
      ]
     },
     "execution_count": 95,
     "metadata": {},
     "output_type": "execute_result"
    }
   ],
   "source": [
    "from sklearn.metrics import confusion_matrix, accuracy_score\n",
    "cm = confusion_matrix(y_test, y_pred)\n",
    "print(cm)\n",
    "accuracy_score(y_test, y_pred)"
   ]
  },
  {
   "cell_type": "code",
   "execution_count": 96,
   "metadata": {
    "colab": {
     "base_uri": "https://localhost:8080/"
    },
    "executionInfo": {
     "elapsed": 33,
     "status": "ok",
     "timestamp": 1628751990026,
     "user": {
      "displayName": "Aadhishrii Patiil",
      "photoUrl": "https://lh3.googleusercontent.com/a-/AOh14GiRxg2Xzt3H395CcMSBSnKUWXGUffwK04DbI7PjLhY=s64",
      "userId": "01064352760328716387"
     },
     "user_tz": -330
    },
    "id": "5gm1Q3UkDR6G",
    "outputId": "fe238371-4c8b-46fc-99dd-5f0d61cad786"
   },
   "outputs": [
    {
     "name": "stdout",
     "output_type": "stream",
     "text": [
      "0.9666666666666667\n"
     ]
    }
   ],
   "source": [
    "from sklearn.metrics import accuracy_score\n",
    "print(accuracy_score(y_test,y_pred))"
   ]
  },
  {
   "cell_type": "code",
   "execution_count": 97,
   "metadata": {
    "colab": {
     "base_uri": "https://localhost:8080/"
    },
    "executionInfo": {
     "elapsed": 34,
     "status": "ok",
     "timestamp": 1628751990027,
     "user": {
      "displayName": "Aadhishrii Patiil",
      "photoUrl": "https://lh3.googleusercontent.com/a-/AOh14GiRxg2Xzt3H395CcMSBSnKUWXGUffwK04DbI7PjLhY=s64",
      "userId": "01064352760328716387"
     },
     "user_tz": -330
    },
    "id": "5iWTGQEz_iPP",
    "outputId": "f94ab3ea-4d0e-421c-b7f3-1e71b9577ba1"
   },
   "outputs": [
    {
     "data": {
      "text/plain": [
       "array([0, 1, 1, 0, 2, 1, 2, 0, 0, 2, 1, 0, 2, 1, 1, 0, 1, 1, 0, 0, 1, 1,\n",
       "       1, 0, 2, 1, 0, 0, 1, 2])"
      ]
     },
     "execution_count": 97,
     "metadata": {},
     "output_type": "execute_result"
    }
   ],
   "source": [
    "y_test"
   ]
  },
  {
   "cell_type": "code",
   "execution_count": 98,
   "metadata": {
    "colab": {
     "base_uri": "https://localhost:8080/"
    },
    "executionInfo": {
     "elapsed": 33,
     "status": "ok",
     "timestamp": 1628751990027,
     "user": {
      "displayName": "Aadhishrii Patiil",
      "photoUrl": "https://lh3.googleusercontent.com/a-/AOh14GiRxg2Xzt3H395CcMSBSnKUWXGUffwK04DbI7PjLhY=s64",
      "userId": "01064352760328716387"
     },
     "user_tz": -330
    },
    "id": "VoYKEWSX_lMF",
    "outputId": "4ddfffd7-d913-4775-a788-41e15c70f10f"
   },
   "outputs": [
    {
     "data": {
      "text/plain": [
       "array([0, 1, 1, 0, 2, 1, 2, 0, 0, 2, 1, 0, 2, 1, 1, 0, 1, 1, 0, 0, 1, 1,\n",
       "       2, 0, 2, 1, 0, 0, 1, 2])"
      ]
     },
     "execution_count": 98,
     "metadata": {},
     "output_type": "execute_result"
    }
   ],
   "source": [
    "y_pred"
   ]
  },
  {
   "cell_type": "code",
   "execution_count": 99,
   "metadata": {
    "id": "HnTossg2wmQG"
   },
   "outputs": [],
   "source": [
    "# y_pred = y_pred.reshape(30,1)\n",
    "# results = pd.DataFrame({\"original\": y_test['species'], \"predictions\": y_pred,\"correct\": y_test['species'] == y_pred})"
   ]
  },
  {
   "cell_type": "code",
   "execution_count": 100,
   "metadata": {
    "id": "QgopyDGkxQYL"
   },
   "outputs": [],
   "source": [
    "# results.loc[results.correct == False] \n",
    "# loc vs iloc\n",
    "# loc -> gets rows (and/or columns) with particular labels\n",
    "# iloc -> gets rows (and/or columns) at integer locations\n"
   ]
  },
  {
   "cell_type": "code",
   "execution_count": 101,
   "metadata": {
    "colab": {
     "base_uri": "https://localhost:8080/"
    },
    "executionInfo": {
     "elapsed": 349,
     "status": "ok",
     "timestamp": 1628752060946,
     "user": {
      "displayName": "Aadhishrii Patiil",
      "photoUrl": "https://lh3.googleusercontent.com/a-/AOh14GiRxg2Xzt3H395CcMSBSnKUWXGUffwK04DbI7PjLhY=s64",
      "userId": "01064352760328716387"
     },
     "user_tz": -330
    },
    "id": "y0p6acc2dBC4",
    "outputId": "0e731a5f-80f3-494f-e8bc-840245afa661"
   },
   "outputs": [
    {
     "name": "stdout",
     "output_type": "stream",
     "text": [
      "[2]\n"
     ]
    }
   ],
   "source": [
    "print(classifier.predict([[4.9,2.4,3.3,1.0]]))"
   ]
  },
  {
   "cell_type": "markdown",
   "metadata": {
    "id": "APlpA0dKvR3v"
   },
   "source": [
    "### Difference between iloc and loc\n",
    "#### [iloc vs loc](https://stackoverflow.com/questions/31593201/how-are-iloc-and-loc-different)"
   ]
  },
  {
   "cell_type": "markdown",
   "metadata": {
    "id": "vvVUc8yaMFuW"
   },
   "source": [
    "## Seaborn Graphs"
   ]
  },
  {
   "cell_type": "code",
   "execution_count": 102,
   "metadata": {
    "colab": {
     "base_uri": "https://localhost:8080/",
     "height": 238
    },
    "executionInfo": {
     "elapsed": 2416,
     "status": "ok",
     "timestamp": 1628752839529,
     "user": {
      "displayName": "Aadhishrii Patiil",
      "photoUrl": "https://lh3.googleusercontent.com/a-/AOh14GiRxg2Xzt3H395CcMSBSnKUWXGUffwK04DbI7PjLhY=s64",
      "userId": "01064352760328716387"
     },
     "user_tz": -330
    },
    "id": "hKm4zMN4MIL0",
    "outputId": "af0f394e-1f9b-4870-8df3-68029873028e"
   },
   "outputs": [
    {
     "data": {
      "text/plain": [
       "<seaborn.axisgrid.FacetGrid at 0x7f80ac25e610>"
      ]
     },
     "execution_count": 102,
     "metadata": {},
     "output_type": "execute_result"
    },
    {
     "data": {
      "image/png": "[encoded data removed]",
      "text/plain": [
       "<Figure size 648x216 with 3 Axes>"
      ]
     },
     "metadata": {},
     "output_type": "display_data"
    }
   ],
   "source": [
    "import seaborn as sns\n",
    "\n",
    "sns.set_theme(style=\"darkgrid\")\n",
    "df = pd.read_csv(\"../Datasets/IRIS.csv\")\n",
    "sns.displot(\n",
    "    data=df, y=\"petal_length\", x=\"petal_width\", col=\"species\",\n",
    "    binwidth=3, height=3, facet_kws=dict(margin_titles=True),\n",
    ")"
   ]
  },
  {
   "cell_type": "code",
   "execution_count": 103,
   "metadata": {
    "colab": {
     "base_uri": "https://localhost:8080/",
     "height": 310
    },
    "executionInfo": {
     "elapsed": 4071,
     "status": "ok",
     "timestamp": 1628752989440,
     "user": {
      "displayName": "Aadhishrii Patiil",
      "photoUrl": "https://lh3.googleusercontent.com/a-/AOh14GiRxg2Xzt3H395CcMSBSnKUWXGUffwK04DbI7PjLhY=s64",
      "userId": "01064352760328716387"
     },
     "user_tz": -330
    },
    "id": "YB0JinKvPap_",
    "outputId": "746c623f-0074-4bbf-cf96-4e2466f4cac2"
   },
   "outputs": [
    {
     "data": {
      "text/plain": [
       "<seaborn.axisgrid.FacetGrid at 0x7f80ac4c7b80>"
      ]
     },
     "execution_count": 103,
     "metadata": {},
     "output_type": "execute_result"
    },
    {
     "data": {
      "image/png": "[encoded data removed]",
      "text/plain": [
       "<Figure size 806.4x288 with 3 Axes>"
      ]
     },
     "metadata": {},
     "output_type": "display_data"
    }
   ],
   "source": [
    "sns.displot(\n",
    "    data=df, y=\"petal_length\", x=\"petal_width\", col=\"species\",\n",
    "    log_scale=(True, False), col_wrap=4, height=4, aspect=.7,\n",
    ")"
   ]
  },
  {
   "cell_type": "code",
   "execution_count": 105,
   "metadata": {
    "colab": {
     "base_uri": "https://localhost:8080/",
     "height": 302
    },
    "executionInfo": {
     "elapsed": 1316,
     "status": "ok",
     "timestamp": 1628754657697,
     "user": {
      "displayName": "Aadhishrii Patiil",
      "photoUrl": "https://lh3.googleusercontent.com/a-/AOh14GiRxg2Xzt3H395CcMSBSnKUWXGUffwK04DbI7PjLhY=s64",
      "userId": "01064352760328716387"
     },
     "user_tz": -330
    },
    "id": "mfWh0GOjRaWo",
    "outputId": "12889e2d-82d9-43dd-8f2b-7e3a0c807c0c"
   },
   "outputs": [
    {
     "data": {
      "text/plain": [
       "<AxesSubplot:xlabel='petal_width', ylabel='petal_length'>"
      ]
     },
     "execution_count": 105,
     "metadata": {},
     "output_type": "execute_result"
    },
    {
     "data": {
      "image/png": "[encoded data removed]",
      "text/plain": [
       "<Figure size 432x288 with 1 Axes>"
      ]
     },
     "metadata": {},
     "output_type": "display_data"
    }
   ],
   "source": [
    "sns.scatterplot(data = df, y=\"petal_length\", x=\"petal_width\", hue=\"species\")"
   ]
  }
 ],
 "metadata": {
  "colab": {
   "authorship_tag": "ABX9TyMpShTpyRZ288G+2wnE5W43",
   "name": "iris_dataset.ipynb",
   "provenance": []
  },
  "kernelspec": {
   "display_name": "Python 3",
   "language": "python",
   "name": "python3"
  },
  "language_info": {
   "codemirror_mode": {
    "name": "ipython",
    "version": 3
   },
   "file_extension": ".py",
   "mimetype": "text/x-python",
   "name": "python",
   "nbconvert_exporter": "python",
   "pygments_lexer": "ipython3",
   "version": "3.8.8"
  }
 },
 "nbformat": 4,
 "nbformat_minor": 1
}
